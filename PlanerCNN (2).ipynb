{
  "nbformat": 4,
  "nbformat_minor": 0,
  "metadata": {
    "colab": {
      "name": "PlanerCNN.ipynb",
      "provenance": [],
      "collapsed_sections": []
    },
    "kernelspec": {
      "name": "python385jvsc74a57bd03de9d290524ff883b8259b248a1b147c991642eb880a4d565323a9dbe6df527f",
      "display_name": "Python 3.8.5 64-bit ('AiPy': conda)"
    },
    "language_info": {
      "name": "python",
      "version": "3.8.5"
    },
    "accelerator": "GPU"
  },
  "cells": [
    {
      "cell_type": "code",
      "metadata": {
        "colab": {
          "base_uri": "https://localhost:8080/"
        },
        "id": "vW0KCDi9Gw09",
        "outputId": "9f8f5491-41e1-4a53-9396-295dcdb6789e"
      },
      "source": [
        "!nvidia-smi"
      ],
      "execution_count": 1,
      "outputs": [
        {
          "output_type": "stream",
          "name": "stdout",
          "text": [
            "Sun Apr 25 11:16:24 2021       \n+-----------------------------------------------------------------------------+\n| NVIDIA-SMI 451.48       Driver Version: 451.48       CUDA Version: 11.0     |\n|-------------------------------+----------------------+----------------------+\n| GPU  Name            TCC/WDDM | Bus-Id        Disp.A | Volatile Uncorr. ECC |\n| Fan  Temp  Perf  Pwr:Usage/Cap|         Memory-Usage | GPU-Util  Compute M. |\n|===============================+======================+======================|\n|   0  GeForce GTX 1650   WDDM  | 00000000:01:00.0  On |                  N/A |\n| N/A   46C    P8     3W /  N/A |    608MiB /  4096MiB |     28%      Default |\n+-------------------------------+----------------------+----------------------+\n                                                                               \n+-----------------------------------------------------------------------------+\n| Processes:                                                                  |\n|  GPU   GI   CI        PID   Type   Process name                  GPU Memory |\n|        ID   ID                                                   Usage      |\n|=============================================================================|\n|    0   N/A  N/A      1320    C+G   Insufficient Permissions        N/A      |\n|    0   N/A  N/A      1424    C+G   ...b3d8bbwe\\WinStore.App.exe    N/A      |\n|    0   N/A  N/A      8536    C+G   ...lPanel\\SystemSettings.exe    N/A      |\n|    0   N/A  N/A      8724    C+G   ...ekyb3d8bbwe\\YourPhone.exe    N/A      |\n|    0   N/A  N/A      8836    C+G   C:\\Windows\\explorer.exe         N/A      |\n|    0   N/A  N/A      9896    C+G   ...kyb3d8bbwe\\Calculator.exe    N/A      |\n|    0   N/A  N/A     10704    C+G   ...5n1h2txyewy\\SearchApp.exe    N/A      |\n|    0   N/A  N/A     11484    C+G   ...cw5n1h2txyewy\\LockApp.exe    N/A      |\n|    0   N/A  N/A     12964    C+G   ...nputApp\\TextInputHost.exe    N/A      |\n|    0   N/A  N/A     16376    C+G   ...y\\ShellExperienceHost.exe    N/A      |\n|    0   N/A  N/A     17056    C+G   ...bbwe\\Microsoft.Photos.exe    N/A      |\n|    0   N/A  N/A     18948    C+G   ...icrosoft VS Code\\Code.exe    N/A      |\n|    0   N/A  N/A     20908    C+G   ...ge\\Application\\msedge.exe    N/A      |\n|    0   N/A  N/A     23116    C+G   ...wekyb3d8bbwe\\Video.UI.exe    N/A      |\n+-----------------------------------------------------------------------------+\n"
          ]
        }
      ]
    },
    {
      "cell_type": "code",
      "metadata": {
        "id": "9CPmpKy6yzFk"
      },
      "source": [
        "# import zipfile\n",
        "\n",
        "# DATA_PATH = r'/content/drive/MyDrive/construction_yolo/data.zip'\n",
        "# zip_ref = zipfile.ZipFile(DATA_PATH, 'r')\n",
        "# zip_ref.extractall(\"/content\")"
      ],
      "execution_count": null,
      "outputs": []
    },
    {
      "cell_type": "code",
      "metadata": {
        "id": "VhUtv9NQF7vj"
      },
      "source": [
        "!cp -r \"/content/planercnn/example_images/camera.txt\" \"/content/data/assignment13/images/\" -v"
      ],
      "execution_count": null,
      "outputs": []
    },
    {
      "cell_type": "code",
      "metadata": {
        "id": "m65tqNLby0qF",
        "colab": {
          "base_uri": "https://localhost:8080/"
        },
        "outputId": "c4926405-ea8c-4759-b67a-49f7300015b6"
      },
      "source": [
        "!python evaluate.py --methods=f --dataset=inference --customDataFolder=\"/data\" --numTestingImages=2"
      ],
      "execution_count": 3,
      "outputs": [
        {
          "output_type": "stream",
          "name": "stderr",
          "text": [
            "The syntax of the command is incorrect.\n",
            "\n",
            "0it [00:00, ?it/s]Using cache found in C:\\Users\\naman/.cache\\torch\\hub\\facebookresearch_WSL-Images_master\n",
            "c:\\Users\\naman\\Desktop\\doepd\\models\\planercnn\\planercnn_decoder.py:1377: UserWarning: nn.init.xavier_uniform is now deprecated in favor of nn.init.xavier_uniform_.\n",
            "  nn.init.xavier_uniform(m.weight)\n",
            "'rm' is not recognized as an internal or external command,\n",
            "operable program or batch file.\n",
            "THCudaCheck FAIL file=..\\torch/csrc/generic/StorageSharing.cpp line=247 error=801 : operation not supported\n",
            "\n",
            "0it [00:03, ?it/s]\n",
            "Traceback (most recent call last):\n",
            "  File \"evaluate.py\", line 340, in <module>\n",
            "    evaluate(args)\n",
            "  File \"evaluate.py\", line 234, in evaluate\n",
            "    for sampleIndex, sample in enumerate(data_iterator):\n",
            "  File \"C:\\Users\\naman\\Miniconda3\\envs\\AiPy\\lib\\site-packages\\tqdm\\std.py\", line 1165, in __iter__\n",
            "    for obj in iterable:\n",
            "  File \"C:\\Users\\naman\\Miniconda3\\envs\\AiPy\\lib\\site-packages\\torch\\utils\\data\\dataloader.py\", line 352, in __iter__\n",
            "    return self._get_iterator()\n",
            "  File \"C:\\Users\\naman\\Miniconda3\\envs\\AiPy\\lib\\site-packages\\torch\\utils\\data\\dataloader.py\", line 294, in _get_iterator\n",
            "    return _MultiProcessingDataLoaderIter(self)\n",
            "  File \"C:\\Users\\naman\\Miniconda3\\envs\\AiPy\\lib\\site-packages\\torch\\utils\\data\\dataloader.py\", line 801, in __init__\n",
            "    w.start()\n",
            "  File \"C:\\Users\\naman\\Miniconda3\\envs\\AiPy\\lib\\multiprocessing\\process.py\", line 121, in start\n",
            "    self._popen = self._Popen(self)\n",
            "  File \"C:\\Users\\naman\\Miniconda3\\envs\\AiPy\\lib\\multiprocessing\\context.py\", line 224, in _Popen\n",
            "    return _default_context.get_context().Process._Popen(process_obj)\n",
            "  File \"C:\\Users\\naman\\Miniconda3\\envs\\AiPy\\lib\\multiprocessing\\context.py\", line 327, in _Popen\n",
            "    return Popen(process_obj)\n",
            "  File \"C:\\Users\\naman\\Miniconda3\\envs\\AiPy\\lib\\multiprocessing\\popen_spawn_win32.py\", line 93, in __init__\n",
            "    reduction.dump(process_obj, to_child)\n",
            "  File \"C:\\Users\\naman\\Miniconda3\\envs\\AiPy\\lib\\multiprocessing\\reduction.py\", line 60, in dump\n",
            "    ForkingPickler(file, protocol).dump(obj)\n",
            "  File \"C:\\Users\\naman\\Miniconda3\\envs\\AiPy\\lib\\site-packages\\torch\\multiprocessing\\reductions.py\", line 240, in reduce_tensor\n",
            "    event_sync_required) = storage._share_cuda_()\n",
            "RuntimeError: cuda runtime error (801) : operation not supported at ..\\torch/csrc/generic/StorageSharing.cpp:247\n",
            "Traceback (most recent call last):\n",
            "  File \"<string>\", line 1, in <module>\n",
            "  File \"C:\\Users\\naman\\Miniconda3\\envs\\AiPy\\lib\\multiprocessing\\spawn.py\", line 116, in spawn_main\n",
            "    exitcode = _main(fd, parent_sentinel)\n",
            "  File \"C:\\Users\\naman\\Miniconda3\\envs\\AiPy\\lib\\multiprocessing\\spawn.py\", line 126, in _main\n",
            "    self = reduction.pickle.load(from_parent)\n",
            "EOFError: Ran out of input\n",
            "the number of images 0\n",
            "Loading weights:  weights/model-f6b98070.pt\n"
          ]
        }
      ]
    },
    {
      "cell_type": "code",
      "metadata": {
        "id": "Y7cxIpO6SSYD"
      },
      "source": [
        "# !cp -r \"/content/planercnn/test/inference/.\" \"/content/drive/MyDrive/planercnn/output\" -v"
      ],
      "execution_count": null,
      "outputs": []
    },
    {
      "cell_type": "code",
      "metadata": {
        "colab": {
          "base_uri": "https://localhost:8080/"
        },
        "id": "c5o9plA3j3Eb",
        "outputId": "91d6a5e3-bd84-4af4-efff-82f795d98dcc"
      },
      "source": [
        "import sys\n",
        "sys.argv=['']\n",
        "del sys\n",
        "\n",
        "%cd /content/doepd.ai\n",
        "from models.planercnn.planercnn_decoder import MaskRCNN\n",
        "from models.planercnn.refinement_net import *\n",
        "from utils.config import *\n",
        "from utils.options import parse_args\n",
        "\n",
        "args = parse_args()\n",
        "\n",
        "config = PlaneConfig(args)\n",
        "\n",
        "model = MaskRCNN(config)\n",
        "refine_model = RefineModel(args)\n",
        "model.cuda()"
      ],
      "execution_count": null,
      "outputs": [
        {
          "output_type": "stream",
          "text": [
            "/content/doepd.ai\n"
          ],
          "name": "stdout"
        },
        {
          "output_type": "stream",
          "text": [
            "/content/doepd.ai/models/planercnn/planercnn_decoder.py:1360: UserWarning: nn.init.xavier_uniform is now deprecated in favor of nn.init.xavier_uniform_.\n",
            "  nn.init.xavier_uniform(m.weight)\n"
          ],
          "name": "stderr"
        },
        {
          "output_type": "execute_result",
          "data": {
            "text/plain": [
              "MaskRCNN(\n",
              "  (fpn): FPN(\n",
              "    (P6): MaxPool2d(kernel_size=1, stride=2, padding=0, dilation=1, ceil_mode=False)\n",
              "    (P5_conv1): Conv2d(2048, 256, kernel_size=(1, 1), stride=(1, 1))\n",
              "    (P5_conv2): Sequential(\n",
              "      (0): SamePad2d\n",
              "      (1): Conv2d(256, 256, kernel_size=(3, 3), stride=(1, 1))\n",
              "    )\n",
              "    (P4_conv1): Conv2d(1024, 256, kernel_size=(1, 1), stride=(1, 1))\n",
              "    (P4_conv2): Sequential(\n",
              "      (0): SamePad2d\n",
              "      (1): Conv2d(256, 256, kernel_size=(3, 3), stride=(1, 1))\n",
              "    )\n",
              "    (P3_conv1): Conv2d(512, 256, kernel_size=(1, 1), stride=(1, 1))\n",
              "    (P3_conv2): Sequential(\n",
              "      (0): SamePad2d\n",
              "      (1): Conv2d(256, 256, kernel_size=(3, 3), stride=(1, 1))\n",
              "    )\n",
              "    (P2_conv1): Conv2d(256, 256, kernel_size=(1, 1), stride=(1, 1))\n",
              "    (P2_conv2): Sequential(\n",
              "      (0): SamePad2d\n",
              "      (1): Conv2d(256, 256, kernel_size=(3, 3), stride=(1, 1))\n",
              "    )\n",
              "  )\n",
              "  (rpn): RPN(\n",
              "    (padding): SamePad2d\n",
              "    (conv_shared): Conv2d(256, 512, kernel_size=(3, 3), stride=(1, 1))\n",
              "    (relu): ReLU(inplace)\n",
              "    (conv_class): Conv2d(512, 6, kernel_size=(1, 1), stride=(1, 1))\n",
              "    (softmax): Softmax()\n",
              "    (conv_bbox): Conv2d(512, 12, kernel_size=(1, 1), stride=(1, 1))\n",
              "  )\n",
              "  (coordinates): Conv2d(3, 64, kernel_size=(1, 1), stride=(1, 1))\n",
              "  (classifier): Classifier(\n",
              "    (conv1): Conv2d(320, 1024, kernel_size=(7, 7), stride=(1, 1))\n",
              "    (bn1): BatchNorm2d(1024, eps=0.001, momentum=0.01, affine=True, track_running_stats=True)\n",
              "    (conv2): Conv2d(1024, 1024, kernel_size=(1, 1), stride=(1, 1))\n",
              "    (bn2): BatchNorm2d(1024, eps=0.001, momentum=0.01, affine=True, track_running_stats=True)\n",
              "    (relu): ReLU(inplace)\n",
              "    (linear_class): Linear(in_features=1024, out_features=8, bias=True)\n",
              "    (softmax): Softmax()\n",
              "    (linear_bbox): Linear(in_features=1024, out_features=32, bias=True)\n",
              "    (linear_parameters): Linear(in_features=1024, out_features=24, bias=True)\n",
              "  )\n",
              "  (mask): Mask(\n",
              "    (padding): SamePad2d\n",
              "    (conv1): Conv2d(256, 256, kernel_size=(3, 3), stride=(1, 1))\n",
              "    (bn1): BatchNorm2d(256, eps=0.001, momentum=0.1, affine=True, track_running_stats=True)\n",
              "    (conv2): Conv2d(256, 256, kernel_size=(3, 3), stride=(1, 1))\n",
              "    (bn2): BatchNorm2d(256, eps=0.001, momentum=0.1, affine=True, track_running_stats=True)\n",
              "    (conv3): Conv2d(256, 256, kernel_size=(3, 3), stride=(1, 1))\n",
              "    (bn3): BatchNorm2d(256, eps=0.001, momentum=0.1, affine=True, track_running_stats=True)\n",
              "    (conv4): Conv2d(256, 256, kernel_size=(3, 3), stride=(1, 1))\n",
              "    (bn4): BatchNorm2d(256, eps=0.001, momentum=0.1, affine=True, track_running_stats=True)\n",
              "    (deconv): ConvTranspose2d(256, 256, kernel_size=(2, 2), stride=(2, 2))\n",
              "    (conv5): Conv2d(256, 8, kernel_size=(1, 1), stride=(1, 1))\n",
              "    (sigmoid): Sigmoid()\n",
              "    (relu): ReLU(inplace)\n",
              "  )\n",
              "  (depth): Depth(\n",
              "    (conv1): Sequential(\n",
              "      (0): Conv2d(256, 128, kernel_size=(3, 3), stride=(1, 1), padding=(1, 1))\n",
              "      (1): BatchNorm2d(128, eps=0.001, momentum=0.01, affine=True, track_running_stats=True)\n",
              "      (2): ReLU(inplace)\n",
              "    )\n",
              "    (conv2): Sequential(\n",
              "      (0): Conv2d(256, 128, kernel_size=(3, 3), stride=(1, 1), padding=(1, 1))\n",
              "      (1): BatchNorm2d(128, eps=0.001, momentum=0.01, affine=True, track_running_stats=True)\n",
              "      (2): ReLU(inplace)\n",
              "    )\n",
              "    (conv3): Sequential(\n",
              "      (0): Conv2d(256, 128, kernel_size=(3, 3), stride=(1, 1), padding=(1, 1))\n",
              "      (1): BatchNorm2d(128, eps=0.001, momentum=0.01, affine=True, track_running_stats=True)\n",
              "      (2): ReLU(inplace)\n",
              "    )\n",
              "    (conv4): Sequential(\n",
              "      (0): Conv2d(256, 128, kernel_size=(3, 3), stride=(1, 1), padding=(1, 1))\n",
              "      (1): BatchNorm2d(128, eps=0.001, momentum=0.01, affine=True, track_running_stats=True)\n",
              "      (2): ReLU(inplace)\n",
              "    )\n",
              "    (conv5): Sequential(\n",
              "      (0): Conv2d(256, 128, kernel_size=(3, 3), stride=(1, 1), padding=(1, 1))\n",
              "      (1): BatchNorm2d(128, eps=0.001, momentum=0.01, affine=True, track_running_stats=True)\n",
              "      (2): ReLU(inplace)\n",
              "    )\n",
              "    (deconv1): Sequential(\n",
              "      (0): Upsample(scale_factor=2, mode=nearest)\n",
              "      (1): Conv2d(128, 128, kernel_size=(3, 3), stride=(1, 1), padding=(1, 1))\n",
              "      (2): BatchNorm2d(128, eps=0.001, momentum=0.01, affine=True, track_running_stats=True)\n",
              "      (3): ReLU(inplace)\n",
              "    )\n",
              "    (deconv2): Sequential(\n",
              "      (0): Upsample(scale_factor=2, mode=nearest)\n",
              "      (1): Conv2d(256, 128, kernel_size=(3, 3), stride=(1, 1), padding=(1, 1))\n",
              "      (2): BatchNorm2d(128, eps=0.001, momentum=0.01, affine=True, track_running_stats=True)\n",
              "      (3): ReLU(inplace)\n",
              "    )\n",
              "    (deconv3): Sequential(\n",
              "      (0): Upsample(scale_factor=2, mode=nearest)\n",
              "      (1): Conv2d(256, 128, kernel_size=(3, 3), stride=(1, 1), padding=(1, 1))\n",
              "      (2): BatchNorm2d(128, eps=0.001, momentum=0.01, affine=True, track_running_stats=True)\n",
              "      (3): ReLU(inplace)\n",
              "    )\n",
              "    (deconv4): Sequential(\n",
              "      (0): Upsample(scale_factor=2, mode=nearest)\n",
              "      (1): Conv2d(256, 128, kernel_size=(3, 3), stride=(1, 1), padding=(1, 1))\n",
              "      (2): BatchNorm2d(128, eps=0.001, momentum=0.01, affine=True, track_running_stats=True)\n",
              "      (3): ReLU(inplace)\n",
              "    )\n",
              "    (deconv5): Sequential(\n",
              "      (0): Upsample(scale_factor=2, mode=nearest)\n",
              "      (1): Conv2d(256, 64, kernel_size=(3, 3), stride=(1, 1), padding=(1, 1))\n",
              "      (2): BatchNorm2d(64, eps=0.001, momentum=0.01, affine=True, track_running_stats=True)\n",
              "      (3): ReLU(inplace)\n",
              "    )\n",
              "    (depth_pred): Conv2d(64, 1, kernel_size=(3, 3), stride=(1, 1), padding=(1, 1))\n",
              "  )\n",
              ")"
            ]
          },
          "metadata": {
            "tags": []
          },
          "execution_count": 11
        }
      ]
    }
  ]
}