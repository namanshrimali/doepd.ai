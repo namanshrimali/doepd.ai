{
  "nbformat": 4,
  "nbformat_minor": 0,
  "metadata": {
    "colab": {
      "name": "Assignment 13 Yolo.ipynb",
      "provenance": [],
      "collapsed_sections": []
    },
    "kernelspec": {
      "name": "python385jvsc74a57bd03de9d290524ff883b8259b248a1b147c991642eb880a4d565323a9dbe6df527f",
      "display_name": "Python 3.8.5 64-bit ('AiPy': conda)"
    },
    "language_info": {
      "name": "python",
      "version": "3.8.5"
    },
    "accelerator": "GPU"
  },
  "cells": [
    {
      "cell_type": "code",
      "metadata": {
        "id": "T5F4cp6hxJI8"
      },
      "source": [
        "RESUME = False"
      ],
      "execution_count": 1,
      "outputs": []
    },
    {
      "cell_type": "code",
      "metadata": {
        "id": "dXqy-Rgwb2Dx",
        "colab": {
          "base_uri": "https://localhost:8080/"
        },
        "outputId": "394a4b9a-edc6-4b1d-c764-2d069d03fc53"
      },
      "source": [
        "if not RESUME:\n",
        "  !python train.py --data data/smalcoco/smalcoco.data --batch 3 --cache --epochs 3 --nosave --device cpu"
      ],
      "execution_count": 2,
      "outputs": [
        {
          "output_type": "stream",
          "name": "stdout",
          "text": [
            "Namespace(accumulate=4, adam=False, batch_size=3, bucket='', cache_images=True, cfg='cfg/yolov3-spp.cfg', data='data/smalcoco/smalcoco.data', device='cpu', epochs=3, evolve=False, img_size=[512], multi_scale=False, name='', nosave=True, notest=False, rect=False, resume=False, single_cls=False, weights='weights/yolov3-new-spp-ultralytics.pt')\n",
            "Using CPU\n",
            "\n",
            "512\n",
            "512\n",
            "2048\n",
            "512\n",
            "768\n",
            "256\n",
            "384\n",
            "Model Summary: 225 layers, 6.29987e+07 parameters, 6.29987e+07 gradients\n",
            "Traceback (most recent call last):\n",
            "  File \"train.py\", line 430, in <module>\n",
            "    train()  # train normally\n",
            "  File \"train.py\", line 118, in train\n",
            "    chkpt = torch.load(weights, map_location=device)\n",
            "  File \"C:\\Users\\naman\\Miniconda3\\envs\\AiPy\\lib\\site-packages\\torch\\serialization.py\", line 595, in load\n",
            "    return _legacy_load(opened_file, map_location, pickle_module, **pickle_load_args)\n",
            "  File \"C:\\Users\\naman\\Miniconda3\\envs\\AiPy\\lib\\site-packages\\torch\\serialization.py\", line 766, in _legacy_load\n",
            "    raise RuntimeError(\"Invalid magic number; corrupt file?\")\n",
            "RuntimeError: Invalid magic number; corrupt file?\n"
          ]
        }
      ]
    },
    {
      "cell_type": "code",
      "metadata": {
        "colab": {
          "base_uri": "https://localhost:8080/"
        },
        "id": "evbi_2g3xWyx",
        "outputId": "18657d18-df6e-4376-9e2c-24a7d1299fbc"
      },
      "source": [
        "if RESUME:\n",
        "  !python train.py --data /content/YoloV3/data/assignment13/custom.data --batch 16 --cache --cfg cfg/yolov3-custom.cfg --epochs 300 --nosave --resume\n",
        "else:\n",
        "  !python train.py --data /content/YoloV3/data/assignment13/custom.data --batch 16 --cache --cfg cfg/yolov3-custom.cfg --epochs 300 --nosave"
      ],
      "execution_count": 3,
      "outputs": [
        {
          "output_type": "stream",
          "name": "stdout",
          "text": [
            "Namespace(accumulate=4, adam=False, batch_size=16, bucket='', cache_images=True, cfg='cfg/yolov3-custom.cfg', data='/content/YoloV3/data/assignment13/custom.data', device='', epochs=300, evolve=False, img_size=[512], multi_scale=False, name='', nosave=True, notest=False, rect=False, resume=False, single_cls=False, weights='weights/yolov3-new-spp-ultralytics.pt')\n",
            "Using CUDA device0 _CudaDeviceProperties(name='GeForce GTX 1650', total_memory=4096MB)\n",
            "\n",
            "Traceback (most recent call last):\n",
            "  File \"train.py\", line 430, in <module>\n",
            "    train()  # train normally\n",
            "  File \"train.py\", line 80, in train\n",
            "    data_dict = parse_data_cfg(data)\n",
            "  File \"c:\\Users\\naman\\Desktop\\Endgame\\YoloV3\\utils\\parse_config.py\", line 59, in parse_data_cfg\n",
            "    with open(path, 'r') as f:\n",
            "FileNotFoundError: [Errno 2] No such file or directory: '/content/YoloV3/data/assignment13/custom.data'\n"
          ]
        }
      ]
    },
    {
      "cell_type": "code",
      "metadata": {
        "id": "aJqtP4bBclN7"
      },
      "source": [
        "!python detect.py --conf-thres 0.1 --source /content/drive/MyDrive/construction_yolo/covid_construction_safety.mp4 --output out_out"
      ],
      "execution_count": 4,
      "outputs": [
        {
          "output_type": "stream",
          "name": "stdout",
          "text": [
            "Namespace(agnostic_nms=False, augment=False, cfg='cfg/yolov3-custom.cfg', classes=None, conf_thres=0.1, device='', fourcc='mp4v', half=False, img_size=512, iou_thres=0.6, names='data/assignment13/custom.names', output='out_out', save_txt=False, source='/content/drive/MyDrive/construction_yolo/covid_construction_safety.mp4', view_img=False, weights='weights/last.pt')\n",
            "Using CUDA device0 _CudaDeviceProperties(name='GeForce GTX 1650', total_memory=4096MB)\n",
            "\n",
            "512\n",
            "512\n",
            "2048\n",
            "512\n",
            "768\n",
            "256\n",
            "384\n",
            "Model Summary: 225 layers, 6.25895e+07 parameters, 6.25895e+07 gradients\n",
            "Downloading https://pjreddie.com/media/files/last.pt\n",
            "  % Total    % Received % Xferd  Average Speed   Time    Time     Time  Current\n",
            "                                 Dload  Upload   Total   Spent    Left  Speed\n",
            "\n",
            "  0     0    0     0    0     0      0      0 --:--:-- --:--:-- --:--:--     0\n",
            "  0     0    0     0    0     0      0      0 --:--:-- --:--:-- --:--:--     0\n",
            "  0     0    0     0    0     0      0      0 --:--:--  0:00:01 --:--:--     0\n",
            "curl: (22) The requested URL returned error: 404 Not Found\n",
            "'rm' is not recognized as an internal or external command,\n",
            "operable program or batch file.\n",
            "Traceback (most recent call last):\n",
            "  File \"detect.py\", line 186, in <module>\n",
            "    detect()\n",
            "  File \"detect.py\", line 24, in detect\n",
            "    attempt_download(weights)\n",
            "  File \"c:\\Users\\naman\\Desktop\\Endgame\\YoloV3\\models.py\", line 471, in attempt_download\n",
            "    raise Exception(msg)\n",
            "Exception: weights/last.pt missing, try downloading from https://drive.google.com/open?id=1LezFG5g3BCW6iYaV89B2i64cqEUZD7e0\n"
          ]
        }
      ]
    },
    {
      "cell_type": "code",
      "metadata": {
        "id": "OW9iO1ocbxBL"
      },
      "source": [
        "import glob\n",
        "video_output = glob.glob('/content/YoloV3/out_out/*.mp4')[0]\n",
        "print(video_output)"
      ],
      "execution_count": 5,
      "outputs": [
        {
          "output_type": "error",
          "ename": "IndexError",
          "evalue": "list index out of range",
          "traceback": [
            "\u001b[1;31m---------------------------------------------------------------------------\u001b[0m",
            "\u001b[1;31mIndexError\u001b[0m                                Traceback (most recent call last)",
            "\u001b[1;32m<ipython-input-5-1d1a036abb2d>\u001b[0m in \u001b[0;36m<module>\u001b[1;34m\u001b[0m\n\u001b[0;32m      1\u001b[0m \u001b[1;32mimport\u001b[0m \u001b[0mglob\u001b[0m\u001b[1;33m\u001b[0m\u001b[1;33m\u001b[0m\u001b[0m\n\u001b[1;32m----> 2\u001b[1;33m \u001b[0mvideo_output\u001b[0m \u001b[1;33m=\u001b[0m \u001b[0mglob\u001b[0m\u001b[1;33m.\u001b[0m\u001b[0mglob\u001b[0m\u001b[1;33m(\u001b[0m\u001b[1;34m'/content/YoloV3/out_out/*.mp4'\u001b[0m\u001b[1;33m)\u001b[0m\u001b[1;33m[\u001b[0m\u001b[1;36m0\u001b[0m\u001b[1;33m]\u001b[0m\u001b[1;33m\u001b[0m\u001b[1;33m\u001b[0m\u001b[0m\n\u001b[0m\u001b[0;32m      3\u001b[0m \u001b[0mprint\u001b[0m\u001b[1;33m(\u001b[0m\u001b[0mvideo_output\u001b[0m\u001b[1;33m)\u001b[0m\u001b[1;33m\u001b[0m\u001b[1;33m\u001b[0m\u001b[0m\n",
            "\u001b[1;31mIndexError\u001b[0m: list index out of range"
          ]
        }
      ]
    },
    {
      "cell_type": "code",
      "metadata": {
        "id": "nberEqqVaKAy"
      },
      "source": [
        "!cp \"/content/drive/MyDrive/construction_yolo/final_video.mp4\" video_output"
      ],
      "execution_count": null,
      "outputs": []
    }
  ]
}